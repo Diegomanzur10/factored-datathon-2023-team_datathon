{
 "cells": [
  {
   "cell_type": "code",
   "execution_count": null,
   "id": "700e1587-f9f5-405b-b8a4-87399b2b2efd",
   "metadata": {
    "tags": []
   },
   "outputs": [],
   "source": [
    "import gzip\n",
    "import boto3\n",
    "import pickle\n",
    "import logging\n",
    "import pandas as pd\n",
    "from datetime import datetime\n",
    "from azure.eventhub import EventHubConsumerClient\n",
    "\n",
    "s3_client = boto3.client(\n",
    "    \"s3\",\n",
    "    aws_access_key_id='',\n",
    "    aws_secret_access_key='',\n",
    ")"
   ]
  },
  {
   "cell_type": "code",
   "execution_count": null,
   "id": "f270c0d8-7722-434f-8d2e-cf1debba7054",
   "metadata": {
    "tags": []
   },
   "outputs": [],
   "source": [
    "connection_str = 'Endpoint=sb://factored-datathon.servicebus.windows.net/;SharedAccessKeyName=datathon_group_1;SharedAccessKey=2GETvVt0FxyM0bo0Qau4inlmC/w3t4Uut+AEhAnAEgk=;EntityPath=factored_datathon_amazon_reviews_1'\n",
    "consumer_group = 'team_datathon'\n",
    "eventhub_name = 'factored_datathon_amazon_reviews_1'\n",
    "client = EventHubConsumerClient.from_connection_string(connection_str, consumer_group, eventhub_name=eventhub_name)\n",
    "logger = logging.getLogger(\"azure.eventhub\")\n",
    "logging.basicConfig(level=logging.INFO)\n",
    "\n",
    "def on_event(partition_context, event):\n",
    "    logger.info(\"Received event from partition {}\".format(partition_context.partition_id))\n",
    "    try:\n",
    "        _ = s3_client.put_object(Body=gzip.compress(pickle.dumps(event.body_as_json())), Bucket='streaming-data-s3', Key=f'partition_{partition_context.partition_id}/event_{datetime.now().strftime(\"%H:%M:%S.%f\")}.pkl.gzip')\n",
    "    except Exception as e:\n",
    "        logging.error(e)\n",
    "    partition_context.update_checkpoint(event)\n",
    "    \n",
    "with client:\n",
    "    client.receive(\n",
    "        on_event=on_event,\n",
    "        starting_position=\"-1\",  # \"-1\" is from the beginning of the partition.\n",
    "        # starting_position = '1714096'\n",
    "    )\n",
    "    # receive events from specified partition:\n",
    "    # client.receive(on_event=on_event, partition_id='0')"
   ]
  },
  {
   "cell_type": "code",
   "execution_count": null,
   "id": "f78c90e8-c3f8-4837-a0ce-094c5b17389a",
   "metadata": {},
   "outputs": [],
   "source": []
  }
 ],
 "metadata": {
  "kernelspec": {
   "display_name": "Python 3 (ipykernel)",
   "language": "python",
   "name": "python3"
  },
  "language_info": {
   "codemirror_mode": {
    "name": "ipython",
    "version": 3
   },
   "file_extension": ".py",
   "mimetype": "text/x-python",
   "name": "python",
   "nbconvert_exporter": "python",
   "pygments_lexer": "ipython3",
   "version": "3.10.5"
  }
 },
 "nbformat": 4,
 "nbformat_minor": 5
}
