{
 "cells": [
  {
   "cell_type": "code",
   "execution_count": null,
   "id": "02ae9c6f-93d5-457e-a491-9b25a1436859",
   "metadata": {},
   "outputs": [],
   "source": [
    "# !pip install pyarrow --quiet"
   ]
  },
  {
   "cell_type": "code",
   "execution_count": 1,
   "id": "c4cf4e0c-4020-497b-9d30-10049f9be997",
   "metadata": {},
   "outputs": [],
   "source": [
    "import os\n",
    "import pandas as pd\n",
    "import pyarrow as pa\n",
    "import pyarrow.parquet as pq\n",
    "import json\n",
    "import gzip\n",
    "import concurrent.futures"
   ]
  },
  {
   "cell_type": "code",
   "execution_count": 2,
   "id": "bc890e99-b3de-4c0e-9ec9-6282fdbfb1b3",
   "metadata": {},
   "outputs": [],
   "source": [
    "DATA_DIR_1, OUTPUT_DIR_1 = \"amazon_reviews\", \"amazon_reviews_parquet\"\n",
    "DATA_DIR_2, OUTPUT_DIR_2  = \"amazon_metadata\", \"amazon_metadata_parquet\"\n",
    "\n",
    "os.makedirs(OUTPUT_DIR_1, exist_ok=True)\n",
    "os.makedirs(OUTPUT_DIR_2, exist_ok=True)"
   ]
  },
  {
   "cell_type": "code",
   "execution_count": 5,
   "id": "64bdaf05-b31d-403b-800c-a392ac7f3e40",
   "metadata": {
    "scrolled": true
   },
   "outputs": [],
   "source": [
    "def convert_to_parquet(file_path, output_dir):\n",
    "    \n",
    "    with gzip.open(file_path) as f:\n",
    "        data = [json.loads(line) for line in f]\n",
    "    df = pd.DataFrame(data)\n",
    "\n",
    "    table = pa.Table.from_pandas(df)\n",
    "\n",
    "    parquet_file = os.path.join(output_dir, os.path.basename(file_path).replace('.json.gz', '.parquet'))\n",
    "    pq.write_table(table, parquet_file)"
   ]
  },
  {
   "cell_type": "markdown",
   "id": "231c64e9-828f-4752-ba37-51dfaee3642d",
   "metadata": {},
   "source": [
    "#### Reviews"
   ]
  },
  {
   "cell_type": "code",
   "execution_count": 6,
   "id": "c007590a-312d-4d05-8790-3ed9403830ef",
   "metadata": {},
   "outputs": [
    {
     "name": "stdout",
     "output_type": "stream",
     "text": [
      "CPU times: total: 51min 51s\n",
      "Wall time: 41min 11s\n"
     ]
    }
   ],
   "source": [
    "%%time\n",
    "with concurrent.futures.ThreadPoolExecutor(max_workers=30) as executor:\n",
    "    futures = []\n",
    "    for subdir, dirs, files in os.walk(DATA_DIR_1):\n",
    "        for file in files:\n",
    "            if file.endswith('.json.gz'):\n",
    "                file_path = os.path.join(subdir, file)\n",
    "                \n",
    "                futures.append(executor.submit(convert_to_parquet, file_path, OUTPUT_DIR_1))\n",
    "\n",
    "    for future in concurrent.futures.as_completed(futures):\n",
    "        try:\n",
    "            future.result() \n",
    "        except Exception as exc:\n",
    "            print(exc)"
   ]
  },
  {
   "cell_type": "markdown",
   "id": "94e9b205-d3d1-4ed5-94c2-db329410aeb2",
   "metadata": {},
   "source": [
    "#### Metadata"
   ]
  },
  {
   "cell_type": "code",
   "execution_count": 13,
   "id": "9541ae02-a698-4c96-b140-b9c583d72d69",
   "metadata": {},
   "outputs": [
    {
     "name": "stdout",
     "output_type": "stream",
     "text": [
      "CPU times: total: 1h 41min 24s\n",
      "Wall time: 1h 35min 30s\n"
     ]
    }
   ],
   "source": [
    "%%time\n",
    "with concurrent.futures.ThreadPoolExecutor(max_workers=30) as executor:\n",
    "    futures = []\n",
    "    for subdir, dirs, files in os.walk(DATA_DIR_2):\n",
    "        for file in files:\n",
    "            if file.endswith('.json.gz'):\n",
    "                file_path = os.path.join(subdir, file)\n",
    "                \n",
    "                futures.append(executor.submit(convert_to_parquet, file_path, OUTPUT_DIR_2))\n",
    "\n",
    "    for future in concurrent.futures.as_completed(futures):\n",
    "        try:\n",
    "            future.result() \n",
    "        except Exception as exc:\n",
    "            print(exc)"
   ]
  }
 ],
 "metadata": {
  "kernelspec": {
   "display_name": "Python 3 (ipykernel)",
   "language": "python",
   "name": "python3"
  },
  "language_info": {
   "codemirror_mode": {
    "name": "ipython",
    "version": 3
   },
   "file_extension": ".py",
   "mimetype": "text/x-python",
   "name": "python",
   "nbconvert_exporter": "python",
   "pygments_lexer": "ipython3",
   "version": "3.11.4"
  }
 },
 "nbformat": 4,
 "nbformat_minor": 5
}
